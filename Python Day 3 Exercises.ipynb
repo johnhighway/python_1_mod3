{
 "cells": [
  {
   "cell_type": "markdown",
   "metadata": {},
   "source": [
    "Exercise 1: Make an empty list and call it names"
   ]
  },
  {
   "cell_type": "code",
   "execution_count": 1,
   "metadata": {},
   "outputs": [],
   "source": [
    "names = []"
   ]
  },
  {
   "cell_type": "markdown",
   "metadata": {},
   "source": [
    "Exercise 2: Make names filled with names of 5 people: Hannah, Victor, Sam, James, Sarah"
   ]
  },
  {
   "cell_type": "code",
   "execution_count": 2,
   "metadata": {},
   "outputs": [
    {
     "name": "stdout",
     "output_type": "stream",
     "text": [
      "['Hannah', 'Victor', 'Sam', 'James', 'Sarah']\n"
     ]
    }
   ],
   "source": [
    "names.append(\"Hannah\")\n",
    "names.append(\"Victor\")\n",
    "names.append(\"Sam\")\n",
    "names.append(\"James\")\n",
    "names.append(\"Sarah\")\n",
    "\n",
    "print(names)"
   ]
  },
  {
   "cell_type": "markdown",
   "metadata": {},
   "source": [
    "Exercise 3: Make names sorted in reverse. Print out the list using a for-loop"
   ]
  },
  {
   "cell_type": "code",
   "execution_count": null,
   "metadata": {},
   "outputs": [],
   "source": [
    "names.sort(reverse=True)\n",
    "print(names)"
   ]
  },
  {
   "cell_type": "markdown",
   "metadata": {},
   "source": [
    "Exercise 4: Make names sorted alphabetically. Print out the list using while loop"
   ]
  },
  {
   "cell_type": "code",
   "execution_count": null,
   "metadata": {},
   "outputs": [],
   "source": [
    "for name in sorted(names) :\n",
    "    print(name)"
   ]
  },
  {
   "cell_type": "markdown",
   "metadata": {},
   "source": [
    "Exercise 5: Pull out the fourth item from names and print it out"
   ]
  },
  {
   "cell_type": "code",
   "execution_count": 3,
   "metadata": {},
   "outputs": [
    {
     "name": "stdout",
     "output_type": "stream",
     "text": [
      "James\n"
     ]
    }
   ],
   "source": [
    "print(names[3])"
   ]
  },
  {
   "cell_type": "markdown",
   "metadata": {},
   "source": [
    "Exercise 6: Pull out the first item from names and print it out"
   ]
  },
  {
   "cell_type": "code",
   "execution_count": 4,
   "metadata": {},
   "outputs": [
    {
     "name": "stdout",
     "output_type": "stream",
     "text": [
      "Hannah\n"
     ]
    }
   ],
   "source": [
    "print(names[0])"
   ]
  },
  {
   "cell_type": "markdown",
   "metadata": {},
   "source": [
    "Exercise 7: Make a variable named fruits that contains a string \"Apples, Oranges, Bananas, Pineapples, Persimmons, Dragonfruit\" and make it into a list splitting it by the commas."
   ]
  },
  {
   "cell_type": "code",
   "execution_count": 7,
   "metadata": {},
   "outputs": [
    {
     "name": "stdout",
     "output_type": "stream",
     "text": [
      "['Apples', 'Oranges', 'Bananas', 'Pineapples', 'Persimssions', 'Dragonfruit']\n"
     ]
    }
   ],
   "source": [
    "fruits = \"Apples, Oranges, Bananas, Pineapples, Persimssions, Dragonfruit\"\n",
    "fruits_list = fruits.split(\", \")\n",
    "print(fruits_list)"
   ]
  },
  {
   "cell_type": "markdown",
   "metadata": {},
   "source": [
    "Exercise 8: Write a program to generate a right-triangle using asterisks(*) where the base of the triangle has 10 asterisks"
   ]
  },
  {
   "cell_type": "code",
   "execution_count": 13,
   "metadata": {},
   "outputs": [
    {
     "name": "stdout",
     "output_type": "stream",
     "text": [
      "*\n",
      "**\n",
      "***\n",
      "****\n",
      "*****\n",
      "******\n",
      "*******\n",
      "********\n",
      "*********\n",
      "**********\n"
     ]
    }
   ],
   "source": [
    "i = 1\n",
    "while i <= 10 :\n",
    "    print(\"*\" * i)\n",
    "    i += 1\n"
   ]
  },
  {
   "cell_type": "markdown",
   "metadata": {},
   "source": [
    "Exercise 9: Create a list of the first 10 square numbers. i.e. the square of each integer from 1 to 10. "
   ]
  },
  {
   "cell_type": "code",
   "execution_count": 14,
   "metadata": {},
   "outputs": [
    {
     "name": "stdout",
     "output_type": "stream",
     "text": [
      "[1, 4, 9, 16, 25, 36, 49, 64, 81, 100]\n"
     ]
    }
   ],
   "source": [
    "squares = []\n",
    "i = 1\n",
    "while i <= 10 :\n",
    "    squares.append(i*i)\n",
    "    i += 1\n",
    "    \n",
    "print(squares)"
   ]
  },
  {
   "cell_type": "markdown",
   "metadata": {},
   "source": [
    "Exercise 10: Create a multiplication table from 1 to 10"
   ]
  },
  {
   "cell_type": "code",
   "execution_count": 66,
   "metadata": {},
   "outputs": [
    {
     "name": "stdout",
     "output_type": "stream",
     "text": [
      "  X\t  1\t  2\t  3\t  4\t  5\t  6\t  7\t  8\t  9\t 10\t\n",
      "------------------------------------------------------------------------------------------\n",
      " 1|\t  1\t  2\t  3\t  4\t  5\t  6\t  7\t  8\t  9\t 10\t\n",
      " 2|\t  2\t  4\t  6\t  8\t 10\t 12\t 14\t 16\t 18\t 20\t\n",
      " 3|\t  3\t  6\t  9\t 12\t 15\t 18\t 21\t 24\t 27\t 30\t\n",
      " 4|\t  4\t  8\t 12\t 16\t 20\t 24\t 28\t 32\t 36\t 40\t\n",
      " 5|\t  5\t 10\t 15\t 20\t 25\t 30\t 35\t 40\t 45\t 50\t\n",
      " 6|\t  6\t 12\t 18\t 24\t 30\t 36\t 42\t 48\t 54\t 60\t\n",
      " 7|\t  7\t 14\t 21\t 28\t 35\t 42\t 49\t 56\t 63\t 70\t\n",
      " 8|\t  8\t 16\t 24\t 32\t 40\t 48\t 56\t 64\t 72\t 80\t\n",
      " 9|\t  9\t 18\t 27\t 36\t 45\t 54\t 63\t 72\t 81\t 90\t\n",
      "10|\t 10\t 20\t 30\t 40\t 50\t 60\t 70\t 80\t 90\t100\t\n"
     ]
    }
   ],
   "source": [
    "x_axis = [1, 2, 3, 4, 5, 6, 7, 8, 9, 10]\n",
    "y_axis = x_axis.copy()\n",
    "\n",
    "print(\"  X\", end=\"\\t\")\n",
    "for x in x_axis :\n",
    "    print(f\" {x:2}\", end=\"\\t\")\n",
    "print()\n",
    "print(\"-\" * 90)\n",
    "\n",
    "for y in y_axis :\n",
    "    print(f\"{y:2}\", end=\"|\\t\")\n",
    "    for x in x_axis :\n",
    "        print(f\"{x*y:3}\", end=\"\\t\")\n",
    "    print()"
   ]
  },
  {
   "cell_type": "markdown",
   "metadata": {},
   "source": [
    "Exercise 11: Write a program that gets test scores from a user and then calculates and displays the average of the scores that have been enter. The output of the program should show the original scores and the average. "
   ]
  },
  {
   "cell_type": "code",
   "execution_count": 89,
   "metadata": {},
   "outputs": [
    {
     "name": "stdout",
     "output_type": "stream",
     "text": [
      "Do you wish to (I)nput test score or (Q)uit: i\n",
      "Please enter student test score: 150\n",
      " 1.\t 150.00\n",
      "Average score:\t 150.00\n",
      "Do you wish to (I)nput test score or (Q)uit: i\n",
      "Please enter student test score: 200\n",
      " 1.\t 150.00\n",
      " 2.\t 200.00\n",
      "Average score:\t 175.00\n",
      "Do you wish to (I)nput test score or (Q)uit: i\n",
      "Please enter student test score: 75.5\n",
      " 1.\t 150.00\n",
      " 2.\t 200.00\n",
      " 3.\t  75.50\n",
      "Average score:\t 141.83\n",
      "Do you wish to (I)nput test score or (Q)uit: i\n",
      "Please enter student test score: 200\n",
      " 1.\t 150.00\n",
      " 2.\t 200.00\n",
      " 3.\t  75.50\n",
      " 4.\t 200.00\n",
      "Average score:\t 156.38\n",
      "Do you wish to (I)nput test score or (Q)uit: i\n",
      "Please enter student test score: 350\n",
      " 1.\t 150.00\n",
      " 2.\t 200.00\n",
      " 3.\t  75.50\n",
      " 4.\t 200.00\n",
      " 5.\t 350.00\n",
      "Average score:\t 195.10\n",
      "Do you wish to (I)nput test score or (Q)uit: i\n",
      "Please enter student test score: blahblah\n",
      "Your input is not a proper value.\n",
      "Do you wish to (I)nput test score or (Q)uit: i\n",
      "Please enter student test score: 100\n",
      " 1.\t 150.00\n",
      " 2.\t 200.00\n",
      " 3.\t  75.50\n",
      " 4.\t 200.00\n",
      " 5.\t 350.00\n",
      " 6.\t 100.00\n",
      "Average score:\t 179.25\n",
      "Do you wish to (I)nput test score or (Q)uit: q\n",
      "Good-bye.\n"
     ]
    }
   ],
   "source": [
    "scores = []\n",
    "\n",
    "\"\"\"\n",
    "Function: get_average - if the list contains no elements/items, you can't divide by zero therefore, it simply\n",
    "print 'No scores'. Otherwise, it will go through the list and add each element value to total_score where, at the\n",
    "end, is divided by the number of scores to calculate the average.\n",
    "\n",
    "It will display each value in the list and display the computed average.\n",
    "\"\"\"\n",
    "def get_average(list) :\n",
    "    num_values = len(list)\n",
    "    counter = 1\n",
    "    total_score = 0\n",
    "    if num_values == 0 :\n",
    "        print(\"No scores\")\n",
    "        return\n",
    "    for score in list :\n",
    "        print(f\"{counter:2}.\\t{score:>7,.2f}\")\n",
    "        total_score += score\n",
    "        counter += 1\n",
    "        \n",
    "    average = total_score/num_values\n",
    "    print(f\"Average score:\\t{average:>7,.2f}\")\n",
    "    \n",
    "\"\"\"\n",
    "Function: check_float - test the input from the user is a valid float value, returns True if value is of type 'float'\n",
    "else return False.\n",
    "\"\"\"\n",
    "def check_float(parm) :\n",
    "    try :\n",
    "        retval = float(parm)\n",
    "        return True\n",
    "    except :\n",
    "        print(\"Your input is not a proper value.\")\n",
    "        return False\n",
    "\n",
    "\"\"\"\n",
    "This while loop will continue until the user inputs 'q' to quit.\n",
    "\"\"\"\n",
    "while True :\n",
    "    response = input(\"Do you wish to (I)nput test score or (Q)uit: \")    # Obtains user's choice 'i' or 'q'\n",
    "    if response.lower() != 'i' and response.lower() != 'q' :\n",
    "        print(\"You entered an invalid response.\")                        # Invalid response if not 'i' or 'q'\n",
    "    elif response.lower() == 'q' :\n",
    "        print(\"Good-bye.\")                                               # Quits if input is 'q'\n",
    "        break\n",
    "    elif response.lower() == 'i' :\n",
    "        test_score = input(\"Please enter student test score: \")\n",
    "        if check_float(test_score) :                                     # Tests input is a proper float value\n",
    "            scores.append(float(test_score))                             # Appends to user score input into list\n",
    "            get_average(scores)                                          # Sends entire list to get_average function."
   ]
  },
  {
   "cell_type": "markdown",
   "metadata": {},
   "source": [
    "Challenge:\n",
    "Write a program that maintains a list of movies, and the user can list all the movies, add a movie to the list, or delete a movie from the list.\n",
    "\n",
    "Example\n",
    "\n",
    "###### COMMAND MENU\n",
    "```\n",
    "list - list all movies\n",
    "add - add a movie\n",
    "del - delete a movie\n",
    "exit - exit program \n",
    "```\n",
    "\n",
    "###### Command: list\n",
    "``` \n",
    " 1. Toy Story\n",
    " 2. Lion King\n",
    " 3. Frozen\n",
    " ```\n",
    "\n",
    "###### Command: add\n",
    " ```\n",
    " Name: Snow White\n",
    " Snow White was added.\n",
    " ```\n",
    "\n",
    "###### Command: del\n",
    "```\n",
    " Number: 3\n",
    " Frozen was deleted.```\n"
   ]
  },
  {
   "cell_type": "code",
   "execution_count": 104,
   "metadata": {},
   "outputs": [
    {
     "name": "stdout",
     "output_type": "stream",
     "text": [
      "##### COMMAND MENU\n",
      "list - list all movies\n",
      "add  - add a movie\n",
      "del  - delete a movie\n",
      "exit - exit program\n",
      "###### Command: list\n",
      "```\n",
      "There are currently no movies in your database.\n",
      "```\n",
      "###### Command: add\n",
      "```\n",
      "Name: Mulan\n",
      "Mulan was added.\n",
      "```\n",
      "###### Command: add\n",
      "```\n",
      "Name: Toy Story\n",
      "Toy Story was added.\n",
      "```\n",
      "###### Command: add\n",
      "```\n",
      "Name: The Little Mermaid\n",
      "The Little Mermaid was added.\n",
      "```\n",
      "###### Command: add\n",
      "```\n",
      "Name: The Avengers\n",
      "The Avengers was added.\n",
      "```\n",
      "###### Command: add\n",
      "```\n",
      "Name: The Avengers: Endgame\n",
      "The Avengers: Endgame was added.\n",
      "```\n",
      "###### Command: list\n",
      "```\n",
      " 1. Mulan\n",
      " 2. The Avengers\n",
      " 3. The Avengers: Endgame\n",
      " 4. The Little Mermaid\n",
      " 5. Toy Story\n",
      "```\n",
      "###### Command: del\n",
      "```\n",
      " 1. Mulan\n",
      " 2. The Avengers\n",
      " 3. The Avengers: Endgame\n",
      " 4. The Little Mermaid\n",
      " 5. Toy Story\n",
      "Number: 2\n",
      "The Avengers was deleted.\n",
      "```\n",
      "###### Command: list\n",
      "```\n",
      " 1. Mulan\n",
      " 2. The Avengers: Endgame\n",
      " 3. The Little Mermaid\n",
      " 4. Toy Story\n",
      "```\n",
      "###### Command: add\n",
      "```\n",
      "Name: E.T.\n",
      "E.T. was added.\n",
      "```\n",
      "###### Command: list\n",
      "```\n",
      " 1. E.T.\n",
      " 2. Mulan\n",
      " 3. The Avengers: Endgame\n",
      " 4. The Little Mermaid\n",
      " 5. Toy Story\n",
      "```\n",
      "###### Command: add\n",
      "```\n",
      "Name: 101 Dalmations\n",
      "101 Dalmations was added.\n",
      "```\n",
      "###### Command: list\n",
      "```\n",
      " 1. 101 Dalmations\n",
      " 2. E.T.\n",
      " 3. Mulan\n",
      " 4. The Avengers: Endgame\n",
      " 5. The Little Mermaid\n",
      " 6. Toy Story\n",
      "```\n",
      "###### Command: del\n",
      "```\n",
      " 1. 101 Dalmations\n",
      " 2. E.T.\n",
      " 3. Mulan\n",
      " 4. The Avengers: Endgame\n",
      " 5. The Little Mermaid\n",
      " 6. Toy Story\n",
      "Number: 4\n",
      "The Avengers: Endgame was deleted.\n",
      "```\n",
      "###### Command: list\n",
      "```\n",
      " 1. 101 Dalmations\n",
      " 2. E.T.\n",
      " 3. Mulan\n",
      " 4. The Little Mermaid\n",
      " 5. Toy Story\n",
      "```\n",
      "###### Command: exit\n",
      "```\n",
      "Good-bye.\n"
     ]
    }
   ],
   "source": [
    "movies = []\n",
    "\n",
    "def command_menu() :\n",
    "    print(\"##### COMMAND MENU\")\n",
    "    print(\"list - list all movies\")\n",
    "    print(\"add  - add a movie\")\n",
    "    print(\"del  - delete a movie\")\n",
    "    print(\"exit - exit program\")\n",
    "\n",
    "def list_movies(movie_list) :\n",
    "    if len(movie_list) == 0 :\n",
    "        print(\"There are currently no movies in your database.\")\n",
    "    else :\n",
    "        movie_list.sort()\n",
    "        count = 1\n",
    "        for movie_name in movie_list :\n",
    "            print(f\"{count:2}. {movie_name}\")\n",
    "            count += 1\n",
    "\n",
    "def add_movie() :\n",
    "    movie_name = input(\"Name: \")\n",
    "    movies.append(movie_name)\n",
    "    print(f\"{movie_name} was added.\")\n",
    "    \n",
    "def delete_movie() :\n",
    "    list_movies(movies)\n",
    "    list_number = int(input(\"Number: \"))\n",
    "    if list_number <= 0 or list_number > len(movies) :\n",
    "        print(\"Invalid movie title choice.\")\n",
    "    else :\n",
    "        movie_name = movies.pop(list_number-1)\n",
    "        print(f\"{movie_name} was deleted.\")\n",
    "    \n",
    "command_menu()\n",
    "while True :\n",
    "    command = input(\"###### Command: \").lower()\n",
    "    print(\"```\")\n",
    "    if command == \"exit\" :\n",
    "        print(\"Good-bye.\")\n",
    "        break\n",
    "    elif command == \"list\" :\n",
    "        list_movies(movies)\n",
    "    elif command == \"add\" :\n",
    "        add_movie()\n",
    "    elif command == \"del\" :\n",
    "        delete_movie()\n",
    "    print(\"```\")"
   ]
  },
  {
   "cell_type": "code",
   "execution_count": null,
   "metadata": {},
   "outputs": [],
   "source": []
  }
 ],
 "metadata": {
  "kernelspec": {
   "display_name": "Python 3",
   "language": "python",
   "name": "python3"
  }
 },
 "nbformat": 4,
 "nbformat_minor": 4
}
